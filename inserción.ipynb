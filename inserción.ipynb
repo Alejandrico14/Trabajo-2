{
  "nbformat": 4,
  "nbformat_minor": 0,
  "metadata": {
    "colab": {
      "name": "inserción.ipynb",
      "provenance": [],
      "collapsed_sections": [],
      "authorship_tag": "ABX9TyPAz6E8KmPf8ItgaW9od0RU",
      "include_colab_link": true
    },
    "kernelspec": {
      "name": "python3",
      "display_name": "Python 3"
    },
    "language_info": {
      "name": "python"
    }
  },
  "cells": [
    {
      "cell_type": "markdown",
      "metadata": {
        "id": "view-in-github",
        "colab_type": "text"
      },
      "source": [
        "<a href=\"https://colab.research.google.com/github/Alejandrico14/Trabajo-2/blob/main/inserci%C3%B3n.ipynb\" target=\"_parent\"><img src=\"https://colab.research.google.com/assets/colab-badge.svg\" alt=\"Open In Colab\"/></a>"
      ]
    },
    {
      "cell_type": "code",
      "metadata": {
        "colab": {
          "base_uri": "https://localhost:8080/"
        },
        "id": "txKEloA0SU0G",
        "outputId": "a6d47bf9-b64a-4008-b7c1-e765cca64275"
      },
      "source": [
        "lista = [6, 8, 10, 3, 4, 1, 5]\n",
        "\n",
        "for i in range (1, len(lista)):\n",
        "  actual = lista [i]\n",
        "  indice = i\n",
        "\n",
        "  while indice > 0 and lista [indice - 1]> actual:\n",
        "\n",
        "    lista[indice] = lista [indice -1]\n",
        "    indice = indice -1\n",
        "  \n",
        "  lista[indice] = actual\n",
        "print(lista)"
      ],
      "execution_count": 1,
      "outputs": [
        {
          "output_type": "stream",
          "name": "stdout",
          "text": [
            "[1, 3, 4, 5, 6, 8, 10]\n"
          ]
        }
      ]
    }
  ]
}